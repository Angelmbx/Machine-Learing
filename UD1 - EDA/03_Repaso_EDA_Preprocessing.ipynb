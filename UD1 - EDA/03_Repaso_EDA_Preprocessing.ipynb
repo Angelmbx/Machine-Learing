{
 "cells": [
  {
   "cell_type": "markdown",
   "metadata": {
    "id": "H-bvGvSw3AHa"
   },
   "source": [
    "# Review : Exploratory Data Analysis con Pandas y Preprocessing\n",
    "#### UD1. Introducción al Machine Learning\n",
    "#### MP. Sistemas de Aprendizaxe Automático\n",
    "#### IES de Teis (Vigo), Vanesa Resúa Eiras, Cristina Gómez Alonso"
   ]
  },
  {
   "cell_type": "markdown",
   "metadata": {
    "collapsed": true,
    "id": "kmOVlIdG3AHg",
    "jupyter": {
     "outputs_hidden": true
    }
   },
   "source": [
    "En este cuarto notebook repasaremos los conceptos trabajados anteriormente\n"
   ]
  },
  {
   "cell_type": "markdown",
   "metadata": {
    "id": "xs4L4L063AHg"
   },
   "source": [
    "### *Ejercicio 0: Importación*\n",
    "\n",
    "Carga en un dataframe el fichero adults.csv y muestra las primeras 10 filas."
   ]
  },
  {
   "cell_type": "code",
   "execution_count": 11,
   "metadata": {
    "id": "7cfjCPne3AHh"
   },
   "outputs": [
    {
     "data": {
      "text/html": [
       "<div>\n",
       "<style scoped>\n",
       "    .dataframe tbody tr th:only-of-type {\n",
       "        vertical-align: middle;\n",
       "    }\n",
       "\n",
       "    .dataframe tbody tr th {\n",
       "        vertical-align: top;\n",
       "    }\n",
       "\n",
       "    .dataframe thead th {\n",
       "        text-align: right;\n",
       "    }\n",
       "</style>\n",
       "<table border=\"1\" class=\"dataframe\">\n",
       "  <thead>\n",
       "    <tr style=\"text-align: right;\">\n",
       "      <th></th>\n",
       "      <th>age</th>\n",
       "      <th>workclass</th>\n",
       "      <th>fnlwgt</th>\n",
       "      <th>education</th>\n",
       "      <th>education-num</th>\n",
       "      <th>marital-status</th>\n",
       "      <th>occupation</th>\n",
       "      <th>relationship</th>\n",
       "      <th>race</th>\n",
       "      <th>sex</th>\n",
       "      <th>capital-gain</th>\n",
       "      <th>capital-loss</th>\n",
       "      <th>hours-per-week</th>\n",
       "      <th>native-country</th>\n",
       "      <th>gains</th>\n",
       "    </tr>\n",
       "  </thead>\n",
       "  <tbody>\n",
       "    <tr>\n",
       "      <th>0</th>\n",
       "      <td>50.0</td>\n",
       "      <td>Self-emp-not-inc</td>\n",
       "      <td>83311</td>\n",
       "      <td>Bachelors</td>\n",
       "      <td>13.0</td>\n",
       "      <td>Married-civ-spouse</td>\n",
       "      <td>Exec-managerial</td>\n",
       "      <td>Husband</td>\n",
       "      <td>White</td>\n",
       "      <td>Male</td>\n",
       "      <td>0</td>\n",
       "      <td>0</td>\n",
       "      <td>13.0</td>\n",
       "      <td>United-States</td>\n",
       "      <td>&lt;=50K</td>\n",
       "    </tr>\n",
       "    <tr>\n",
       "      <th>1</th>\n",
       "      <td>38.0</td>\n",
       "      <td>Private</td>\n",
       "      <td>215646</td>\n",
       "      <td>HS-grad</td>\n",
       "      <td>9.0</td>\n",
       "      <td>Divorced</td>\n",
       "      <td>Handlers-cleaners</td>\n",
       "      <td>Not-in-family</td>\n",
       "      <td>White</td>\n",
       "      <td>Male</td>\n",
       "      <td>0</td>\n",
       "      <td>0</td>\n",
       "      <td>40.0</td>\n",
       "      <td>United-States</td>\n",
       "      <td>&lt;=50K</td>\n",
       "    </tr>\n",
       "    <tr>\n",
       "      <th>2</th>\n",
       "      <td>53.0</td>\n",
       "      <td>Private</td>\n",
       "      <td>234721</td>\n",
       "      <td>11th</td>\n",
       "      <td>7.0</td>\n",
       "      <td>Married-civ-spouse</td>\n",
       "      <td>Handlers-cleaners</td>\n",
       "      <td>Husband</td>\n",
       "      <td>Black</td>\n",
       "      <td>Male</td>\n",
       "      <td>0</td>\n",
       "      <td>0</td>\n",
       "      <td>40.0</td>\n",
       "      <td>United-States</td>\n",
       "      <td>&lt;=50K</td>\n",
       "    </tr>\n",
       "    <tr>\n",
       "      <th>3</th>\n",
       "      <td>28.0</td>\n",
       "      <td>Private</td>\n",
       "      <td>338409</td>\n",
       "      <td>Bachelors</td>\n",
       "      <td>13.0</td>\n",
       "      <td>Married-civ-spouse</td>\n",
       "      <td>Prof-specialty</td>\n",
       "      <td>Wife</td>\n",
       "      <td>Black</td>\n",
       "      <td>Female</td>\n",
       "      <td>0</td>\n",
       "      <td>0</td>\n",
       "      <td>40.0</td>\n",
       "      <td>Cuba</td>\n",
       "      <td>&lt;=50K</td>\n",
       "    </tr>\n",
       "    <tr>\n",
       "      <th>4</th>\n",
       "      <td>37.0</td>\n",
       "      <td>Private</td>\n",
       "      <td>284582</td>\n",
       "      <td>Masters</td>\n",
       "      <td>14.0</td>\n",
       "      <td>Married-civ-spouse</td>\n",
       "      <td>Exec-managerial</td>\n",
       "      <td>Wife</td>\n",
       "      <td>White</td>\n",
       "      <td>Female</td>\n",
       "      <td>0</td>\n",
       "      <td>0</td>\n",
       "      <td>40.0</td>\n",
       "      <td>United-States</td>\n",
       "      <td>&lt;=50K</td>\n",
       "    </tr>\n",
       "    <tr>\n",
       "      <th>5</th>\n",
       "      <td>49.0</td>\n",
       "      <td>Private</td>\n",
       "      <td>160187</td>\n",
       "      <td>9th</td>\n",
       "      <td>5.0</td>\n",
       "      <td>Married-spouse-absent</td>\n",
       "      <td>Other-service</td>\n",
       "      <td>Not-in-family</td>\n",
       "      <td>Black</td>\n",
       "      <td>Female</td>\n",
       "      <td>0</td>\n",
       "      <td>0</td>\n",
       "      <td>16.0</td>\n",
       "      <td>Jamaica</td>\n",
       "      <td>&lt;=50K</td>\n",
       "    </tr>\n",
       "    <tr>\n",
       "      <th>6</th>\n",
       "      <td>52.0</td>\n",
       "      <td>Self-emp-not-inc</td>\n",
       "      <td>209642</td>\n",
       "      <td>HS-grad</td>\n",
       "      <td>9.0</td>\n",
       "      <td>Married-civ-spouse</td>\n",
       "      <td>Exec-managerial</td>\n",
       "      <td>Husband</td>\n",
       "      <td>White</td>\n",
       "      <td>Male</td>\n",
       "      <td>0</td>\n",
       "      <td>0</td>\n",
       "      <td>45.0</td>\n",
       "      <td>United-States</td>\n",
       "      <td>&gt;50K</td>\n",
       "    </tr>\n",
       "    <tr>\n",
       "      <th>7</th>\n",
       "      <td>31.0</td>\n",
       "      <td>Private</td>\n",
       "      <td>45781</td>\n",
       "      <td>Masters</td>\n",
       "      <td>14.0</td>\n",
       "      <td>Never-married</td>\n",
       "      <td>Prof-specialty</td>\n",
       "      <td>Not-in-family</td>\n",
       "      <td>White</td>\n",
       "      <td>Female</td>\n",
       "      <td>14084</td>\n",
       "      <td>0</td>\n",
       "      <td>50.0</td>\n",
       "      <td>United-States</td>\n",
       "      <td>&gt;50K</td>\n",
       "    </tr>\n",
       "    <tr>\n",
       "      <th>8</th>\n",
       "      <td>42.0</td>\n",
       "      <td>Private</td>\n",
       "      <td>159449</td>\n",
       "      <td>Bachelors</td>\n",
       "      <td>13.0</td>\n",
       "      <td>Married-civ-spouse</td>\n",
       "      <td>Exec-managerial</td>\n",
       "      <td>Husband</td>\n",
       "      <td>White</td>\n",
       "      <td>Male</td>\n",
       "      <td>5178</td>\n",
       "      <td>0</td>\n",
       "      <td>40.0</td>\n",
       "      <td>United-States</td>\n",
       "      <td>&gt;50K</td>\n",
       "    </tr>\n",
       "    <tr>\n",
       "      <th>9</th>\n",
       "      <td>37.0</td>\n",
       "      <td>Private</td>\n",
       "      <td>280464</td>\n",
       "      <td>Some-college</td>\n",
       "      <td>10.0</td>\n",
       "      <td>Married-civ-spouse</td>\n",
       "      <td>Exec-managerial</td>\n",
       "      <td>Husband</td>\n",
       "      <td>Black</td>\n",
       "      <td>Male</td>\n",
       "      <td>0</td>\n",
       "      <td>0</td>\n",
       "      <td>80.0</td>\n",
       "      <td>United-States</td>\n",
       "      <td>&gt;50K</td>\n",
       "    </tr>\n",
       "  </tbody>\n",
       "</table>\n",
       "</div>"
      ],
      "text/plain": [
       "    age         workclass  fnlwgt     education  education-num  \\\n",
       "0  50.0  Self-emp-not-inc   83311     Bachelors           13.0   \n",
       "1  38.0           Private  215646       HS-grad            9.0   \n",
       "2  53.0           Private  234721          11th            7.0   \n",
       "3  28.0           Private  338409     Bachelors           13.0   \n",
       "4  37.0           Private  284582       Masters           14.0   \n",
       "5  49.0           Private  160187           9th            5.0   \n",
       "6  52.0  Self-emp-not-inc  209642       HS-grad            9.0   \n",
       "7  31.0           Private   45781       Masters           14.0   \n",
       "8  42.0           Private  159449     Bachelors           13.0   \n",
       "9  37.0           Private  280464  Some-college           10.0   \n",
       "\n",
       "          marital-status         occupation   relationship   race     sex  \\\n",
       "0     Married-civ-spouse    Exec-managerial        Husband  White    Male   \n",
       "1               Divorced  Handlers-cleaners  Not-in-family  White    Male   \n",
       "2     Married-civ-spouse  Handlers-cleaners        Husband  Black    Male   \n",
       "3     Married-civ-spouse     Prof-specialty           Wife  Black  Female   \n",
       "4     Married-civ-spouse    Exec-managerial           Wife  White  Female   \n",
       "5  Married-spouse-absent      Other-service  Not-in-family  Black  Female   \n",
       "6     Married-civ-spouse    Exec-managerial        Husband  White    Male   \n",
       "7          Never-married     Prof-specialty  Not-in-family  White  Female   \n",
       "8     Married-civ-spouse    Exec-managerial        Husband  White    Male   \n",
       "9     Married-civ-spouse    Exec-managerial        Husband  Black    Male   \n",
       "\n",
       "   capital-gain  capital-loss  hours-per-week native-country  gains  \n",
       "0             0             0            13.0  United-States  <=50K  \n",
       "1             0             0            40.0  United-States  <=50K  \n",
       "2             0             0            40.0  United-States  <=50K  \n",
       "3             0             0            40.0           Cuba  <=50K  \n",
       "4             0             0            40.0  United-States  <=50K  \n",
       "5             0             0            16.0        Jamaica  <=50K  \n",
       "6             0             0            45.0  United-States   >50K  \n",
       "7         14084             0            50.0  United-States   >50K  \n",
       "8          5178             0            40.0  United-States   >50K  \n",
       "9             0             0            80.0  United-States   >50K  "
      ]
     },
     "execution_count": 11,
     "metadata": {},
     "output_type": "execute_result"
    }
   ],
   "source": [
    "import pandas as pd\n",
    "\n",
    "adults = pd.read_csv('Notebooks_data_files/adult.csv',index_col=False, skipinitialspace=True)\n",
    "\n",
    "adults.head(10)"
   ]
  },
  {
   "cell_type": "markdown",
   "metadata": {
    "collapsed": false,
    "id": "r5FMr-e43AHi",
    "jupyter": {
     "outputs_hidden": false
    }
   },
   "source": [
    "### *Ejercicio 1: Datos generales*\n",
    "\n",
    "1. ¿Cuántas filas y columnas tiene el dataset?"
   ]
  },
  {
   "cell_type": "code",
   "execution_count": 7,
   "metadata": {
    "id": "QJgkZ2OJ3AHi"
   },
   "outputs": [
    {
     "name": "stdout",
     "output_type": "stream",
     "text": [
      "Tiene 32560 filas y 15 columnas\n"
     ]
    }
   ],
   "source": [
    "print(f\"Tiene {adults.shape[0]} filas y {adults.shape[1]} columnas\")"
   ]
  },
  {
   "cell_type": "markdown",
   "metadata": {
    "collapsed": false,
    "id": "rul7JpSS3AHj",
    "jupyter": {
     "outputs_hidden": false
    }
   },
   "source": [
    "2. Muestra información detallada de cada columna. Para cada tipo de datos, ¿Cuántas columnas tienes de dicho tipo?"
   ]
  },
  {
   "cell_type": "code",
   "execution_count": 14,
   "metadata": {
    "id": "hvNK25tF3AHj"
   },
   "outputs": [
    {
     "name": "stdout",
     "output_type": "stream",
     "text": [
      "<class 'pandas.core.frame.DataFrame'>\n",
      "RangeIndex: 32560 entries, 0 to 32559\n",
      "Data columns (total 15 columns):\n",
      " #   Column          Non-Null Count  Dtype  \n",
      "---  ------          --------------  -----  \n",
      " 0   age             32559 non-null  float64\n",
      " 1   workclass       32557 non-null  object \n",
      " 2   fnlwgt          32560 non-null  int64  \n",
      " 3   education       32560 non-null  object \n",
      " 4   education-num   32554 non-null  float64\n",
      " 5   marital-status  32560 non-null  object \n",
      " 6   occupation      32560 non-null  object \n",
      " 7   relationship    32560 non-null  object \n",
      " 8   race            32558 non-null  object \n",
      " 9   sex             32560 non-null  object \n",
      " 10  capital-gain    32560 non-null  int64  \n",
      " 11  capital-loss    32560 non-null  int64  \n",
      " 12  hours-per-week  32552 non-null  float64\n",
      " 13  native-country  32560 non-null  object \n",
      " 14  gains           32560 non-null  object \n",
      "dtypes: float64(3), int64(3), object(9)\n",
      "memory usage: 3.7+ MB\n"
     ]
    }
   ],
   "source": [
    "adults.info()\n",
    "\n",
    "# Hay 3 de tipo float64, 3 de tipo int64, y 9 tipo object"
   ]
  },
  {
   "cell_type": "markdown",
   "metadata": {
    "collapsed": false,
    "id": "8KqSI9A73AHk",
    "jupyter": {
     "outputs_hidden": false
    }
   },
   "source": [
    "3. Muestra información estadística de cada columna numérica y responde a las siguientes preguntas.¿Cuantos años tiene el usuario más mayor y el más joven? ¿Cuál es la mayor ganancia para un usuario? ¿En qué cuartil se superan las 40h semanales de trabajo?"
   ]
  },
  {
   "cell_type": "code",
   "execution_count": 21,
   "metadata": {
    "id": "W-NU8kVh3AHk"
   },
   "outputs": [
    {
     "data": {
      "text/plain": [
       "np.float64(45.0)"
      ]
     },
     "execution_count": 21,
     "metadata": {},
     "output_type": "execute_result"
    }
   ],
   "source": [
    "# adults.describe() muestra una tabla con todos los datos\n",
    "adults['age'].max() # 90 años\n",
    "adults['age'].min() # 17 años\n",
    "adults['capital-gain'].max() # 99999\n",
    "adults['hours-per-week'].quantile(0.75) # a partir del tercer cuartil\n"
   ]
  },
  {
   "cell_type": "markdown",
   "metadata": {
    "collapsed": false,
    "id": "4ZCBSF183AHl",
    "jupyter": {
     "outputs_hidden": false
    }
   },
   "source": [
    "4. ¿Existen nulos en alguna de las columnas?"
   ]
  },
  {
   "cell_type": "code",
   "execution_count": 22,
   "metadata": {
    "id": "wymyWX5D3AHl"
   },
   "outputs": [
    {
     "data": {
      "text/plain": [
       "age               1\n",
       "workclass         3\n",
       "fnlwgt            0\n",
       "education         0\n",
       "education-num     6\n",
       "marital-status    0\n",
       "occupation        0\n",
       "relationship      0\n",
       "race              2\n",
       "sex               0\n",
       "capital-gain      0\n",
       "capital-loss      0\n",
       "hours-per-week    8\n",
       "native-country    0\n",
       "gains             0\n",
       "dtype: int64"
      ]
     },
     "execution_count": 22,
     "metadata": {},
     "output_type": "execute_result"
    }
   ],
   "source": [
    "adults.isnull().sum()"
   ]
  },
  {
   "cell_type": "markdown",
   "metadata": {
    "collapsed": false,
    "id": "aGVX2dr33AHl",
    "jupyter": {
     "outputs_hidden": false
    }
   },
   "source": [
    "### *Ejercicio 3: Índices*\n",
    "\n",
    "1. ¿Qué valores diferentes tiene la columna relationship? ¿En qué proporción?"
   ]
  },
  {
   "cell_type": "code",
   "execution_count": 25,
   "metadata": {
    "id": "94sD1qnW3AHm"
   },
   "outputs": [
    {
     "data": {
      "text/plain": [
       "relationship\n",
       "Husband           40.519042\n",
       "Not-in-family     25.503686\n",
       "Own-child         15.565111\n",
       "Unmarried         10.583538\n",
       "Wife               4.815725\n",
       "Other-relative     3.012899\n",
       "Name: proportion, dtype: float64"
      ]
     },
     "execution_count": 25,
     "metadata": {},
     "output_type": "execute_result"
    }
   ],
   "source": [
    "adults['relationship'].unique() # valores que puede tomar la columna \n",
    "adults['relationship'].value_counts() # para cada valor diferente nos dice el total de elementos que encuentra\n",
    "\n",
    "adults['relationship'].value_counts(normalize=True)*100 # para cada valor diferente nos dice el porcentaje de ocurrencias que encuentra"
   ]
  },
  {
   "cell_type": "markdown",
   "metadata": {
    "collapsed": false,
    "id": "ociQToyB3AHm",
    "jupyter": {
     "outputs_hidden": false
    }
   },
   "source": [
    "2. ¿Y la columna native-country?"
   ]
  },
  {
   "cell_type": "code",
   "execution_count": 26,
   "metadata": {
    "id": "vewotcjQ3AHn"
   },
   "outputs": [
    {
     "data": {
      "text/plain": [
       "array(['United-States', 'Cuba', 'Jamaica', 'India', '?', 'Mexico',\n",
       "       'South', 'Puerto-Rico', 'Honduras', 'England', 'Canada', 'Germany',\n",
       "       'Iran', 'Philippines', 'Italy', 'Poland', 'Columbia', 'Cambodia',\n",
       "       'Thailand', 'Ecuador', 'Laos', 'Taiwan', 'Haiti', 'Portugal',\n",
       "       'Dominican-Republic', 'El-Salvador', 'France', 'Guatemala',\n",
       "       'China', 'Japan', 'Yugoslavia', 'Peru',\n",
       "       'Outlying-US(Guam-USVI-etc)', 'Scotland', 'Trinadad&Tobago',\n",
       "       'Greece', 'Nicaragua', 'Vietnam', 'Hong', 'Ireland', 'Hungary',\n",
       "       'Holand-Netherlands'], dtype=object)"
      ]
     },
     "execution_count": 26,
     "metadata": {},
     "output_type": "execute_result"
    }
   ],
   "source": [
    "adults['native-country'].unique()"
   ]
  },
  {
   "cell_type": "markdown",
   "metadata": {
    "collapsed": false,
    "id": "dhN73ylk3AHn",
    "jupyter": {
     "outputs_hidden": false
    }
   },
   "source": [
    "3. Crea un nuevo dataframe llamado adults_new_index con un índice para las columna relationship y native-country."
   ]
  },
  {
   "cell_type": "code",
   "execution_count": 27,
   "metadata": {
    "id": "verQzFUg3AHn"
   },
   "outputs": [],
   "source": [
    "adults_new_index = adults.set_index(['relationship', 'native-country'])"
   ]
  },
  {
   "cell_type": "markdown",
   "metadata": {
    "collapsed": false,
    "id": "eowfUgOc3AHo",
    "jupyter": {
     "outputs_hidden": false
    }
   },
   "source": [
    "### *Ejercicio 4: Selección de datos específicos por columna/fila*\n",
    "\n",
    "1. Muestra los datos exclusivamente de las columnas edad, sexo y ganancias.\n",
    "2. Sobre el conjunto anterior muestra las últimas 10 filas."
   ]
  },
  {
   "cell_type": "code",
   "execution_count": 29,
   "metadata": {
    "id": "lnjOH1Jc3AHo"
   },
   "outputs": [
    {
     "data": {
      "text/html": [
       "<div>\n",
       "<style scoped>\n",
       "    .dataframe tbody tr th:only-of-type {\n",
       "        vertical-align: middle;\n",
       "    }\n",
       "\n",
       "    .dataframe tbody tr th {\n",
       "        vertical-align: top;\n",
       "    }\n",
       "\n",
       "    .dataframe thead th {\n",
       "        text-align: right;\n",
       "    }\n",
       "</style>\n",
       "<table border=\"1\" class=\"dataframe\">\n",
       "  <thead>\n",
       "    <tr style=\"text-align: right;\">\n",
       "      <th></th>\n",
       "      <th>age</th>\n",
       "      <th>sex</th>\n",
       "      <th>gains</th>\n",
       "    </tr>\n",
       "  </thead>\n",
       "  <tbody>\n",
       "    <tr>\n",
       "      <th>32550</th>\n",
       "      <td>32.0</td>\n",
       "      <td>Male</td>\n",
       "      <td>&lt;=50K</td>\n",
       "    </tr>\n",
       "    <tr>\n",
       "      <th>32551</th>\n",
       "      <td>43.0</td>\n",
       "      <td>Male</td>\n",
       "      <td>&lt;=50K</td>\n",
       "    </tr>\n",
       "    <tr>\n",
       "      <th>32552</th>\n",
       "      <td>32.0</td>\n",
       "      <td>Male</td>\n",
       "      <td>&lt;=50K</td>\n",
       "    </tr>\n",
       "    <tr>\n",
       "      <th>32553</th>\n",
       "      <td>53.0</td>\n",
       "      <td>Male</td>\n",
       "      <td>&gt;50K</td>\n",
       "    </tr>\n",
       "    <tr>\n",
       "      <th>32554</th>\n",
       "      <td>22.0</td>\n",
       "      <td>Male</td>\n",
       "      <td>&lt;=50K</td>\n",
       "    </tr>\n",
       "    <tr>\n",
       "      <th>32555</th>\n",
       "      <td>27.0</td>\n",
       "      <td>Female</td>\n",
       "      <td>&lt;=50K</td>\n",
       "    </tr>\n",
       "    <tr>\n",
       "      <th>32556</th>\n",
       "      <td>40.0</td>\n",
       "      <td>Male</td>\n",
       "      <td>&gt;50K</td>\n",
       "    </tr>\n",
       "    <tr>\n",
       "      <th>32557</th>\n",
       "      <td>58.0</td>\n",
       "      <td>Female</td>\n",
       "      <td>&lt;=50K</td>\n",
       "    </tr>\n",
       "    <tr>\n",
       "      <th>32558</th>\n",
       "      <td>22.0</td>\n",
       "      <td>Male</td>\n",
       "      <td>&lt;=50K</td>\n",
       "    </tr>\n",
       "    <tr>\n",
       "      <th>32559</th>\n",
       "      <td>52.0</td>\n",
       "      <td>Female</td>\n",
       "      <td>&gt;50K</td>\n",
       "    </tr>\n",
       "  </tbody>\n",
       "</table>\n",
       "</div>"
      ],
      "text/plain": [
       "        age     sex  gains\n",
       "32550  32.0    Male  <=50K\n",
       "32551  43.0    Male  <=50K\n",
       "32552  32.0    Male  <=50K\n",
       "32553  53.0    Male   >50K\n",
       "32554  22.0    Male  <=50K\n",
       "32555  27.0  Female  <=50K\n",
       "32556  40.0    Male   >50K\n",
       "32557  58.0  Female  <=50K\n",
       "32558  22.0    Male  <=50K\n",
       "32559  52.0  Female   >50K"
      ]
     },
     "execution_count": 29,
     "metadata": {},
     "output_type": "execute_result"
    }
   ],
   "source": [
    "adults[['age', 'sex','gains']].tail(10)"
   ]
  },
  {
   "cell_type": "markdown",
   "metadata": {
    "collapsed": false,
    "id": "RzjPYw383AHo",
    "jupyter": {
     "outputs_hidden": false
    }
   },
   "source": [
    "3. Muestra los datos de las columnas primera, segunda, tercera y quinta para las 100 primeras filas. Ordena el resultado de forma descendente por edad."
   ]
  },
  {
   "cell_type": "code",
   "execution_count": 30,
   "metadata": {
    "id": "90PCxEBr3AHp"
   },
   "outputs": [
    {
     "name": "stdout",
     "output_type": "stream",
     "text": [
      "     age workclass  fnlwgt  education-num\n",
      "73  79.0   Private  124744           10.0\n",
      "99  76.0   Private  124191           14.0\n",
      "76  67.0         ?  212759            6.0\n",
      "82  59.0   Private  159937            9.0\n",
      "23  59.0   Private  109015            9.0\n",
      "..   ...       ...     ...            ...\n",
      "69  19.0   Private  101509           10.0\n",
      "25  19.0   Private  168294            9.0\n",
      "79  18.0   Private  446839            9.0\n",
      "77  18.0   Private  309634            7.0\n",
      "50   NaN   Private  226956            9.0\n",
      "\n",
      "[100 rows x 4 columns]\n"
     ]
    }
   ],
   "source": [
    "adults_100 = adults.iloc[0:100, [0,1,2,4]]\n",
    "adults_100.sort_values(by='age', ascending=False, inplace=True) #If inplace=True, perform operation in-place.False by default. Esto quiere decir\n",
    "# que altera el orden del dataframe aunque,éste no se asigne propiamente a un nuevo dataframe.\n",
    "print(adults_100)"
   ]
  },
  {
   "cell_type": "markdown",
   "metadata": {
    "collapsed": false,
    "id": "Txx2dmiI3AHp",
    "jupyter": {
     "outputs_hidden": false
    }
   },
   "source": [
    "4. Muestra las 4 últimas columnas para todas las filas."
   ]
  },
  {
   "cell_type": "code",
   "execution_count": 35,
   "metadata": {
    "id": "QrNZ4enP3AHp"
   },
   "outputs": [
    {
     "data": {
      "text/html": [
       "<div>\n",
       "<style scoped>\n",
       "    .dataframe tbody tr th:only-of-type {\n",
       "        vertical-align: middle;\n",
       "    }\n",
       "\n",
       "    .dataframe tbody tr th {\n",
       "        vertical-align: top;\n",
       "    }\n",
       "\n",
       "    .dataframe thead th {\n",
       "        text-align: right;\n",
       "    }\n",
       "</style>\n",
       "<table border=\"1\" class=\"dataframe\">\n",
       "  <thead>\n",
       "    <tr style=\"text-align: right;\">\n",
       "      <th></th>\n",
       "      <th>capital-loss</th>\n",
       "      <th>hours-per-week</th>\n",
       "      <th>native-country</th>\n",
       "      <th>gains</th>\n",
       "    </tr>\n",
       "  </thead>\n",
       "  <tbody>\n",
       "    <tr>\n",
       "      <th>0</th>\n",
       "      <td>0</td>\n",
       "      <td>13.0</td>\n",
       "      <td>United-States</td>\n",
       "      <td>&lt;=50K</td>\n",
       "    </tr>\n",
       "    <tr>\n",
       "      <th>1</th>\n",
       "      <td>0</td>\n",
       "      <td>40.0</td>\n",
       "      <td>United-States</td>\n",
       "      <td>&lt;=50K</td>\n",
       "    </tr>\n",
       "    <tr>\n",
       "      <th>2</th>\n",
       "      <td>0</td>\n",
       "      <td>40.0</td>\n",
       "      <td>United-States</td>\n",
       "      <td>&lt;=50K</td>\n",
       "    </tr>\n",
       "    <tr>\n",
       "      <th>3</th>\n",
       "      <td>0</td>\n",
       "      <td>40.0</td>\n",
       "      <td>Cuba</td>\n",
       "      <td>&lt;=50K</td>\n",
       "    </tr>\n",
       "    <tr>\n",
       "      <th>4</th>\n",
       "      <td>0</td>\n",
       "      <td>40.0</td>\n",
       "      <td>United-States</td>\n",
       "      <td>&lt;=50K</td>\n",
       "    </tr>\n",
       "    <tr>\n",
       "      <th>...</th>\n",
       "      <td>...</td>\n",
       "      <td>...</td>\n",
       "      <td>...</td>\n",
       "      <td>...</td>\n",
       "    </tr>\n",
       "    <tr>\n",
       "      <th>32555</th>\n",
       "      <td>0</td>\n",
       "      <td>38.0</td>\n",
       "      <td>United-States</td>\n",
       "      <td>&lt;=50K</td>\n",
       "    </tr>\n",
       "    <tr>\n",
       "      <th>32556</th>\n",
       "      <td>0</td>\n",
       "      <td>40.0</td>\n",
       "      <td>United-States</td>\n",
       "      <td>&gt;50K</td>\n",
       "    </tr>\n",
       "    <tr>\n",
       "      <th>32557</th>\n",
       "      <td>0</td>\n",
       "      <td>40.0</td>\n",
       "      <td>United-States</td>\n",
       "      <td>&lt;=50K</td>\n",
       "    </tr>\n",
       "    <tr>\n",
       "      <th>32558</th>\n",
       "      <td>0</td>\n",
       "      <td>20.0</td>\n",
       "      <td>United-States</td>\n",
       "      <td>&lt;=50K</td>\n",
       "    </tr>\n",
       "    <tr>\n",
       "      <th>32559</th>\n",
       "      <td>0</td>\n",
       "      <td>40.0</td>\n",
       "      <td>United-States</td>\n",
       "      <td>&gt;50K</td>\n",
       "    </tr>\n",
       "  </tbody>\n",
       "</table>\n",
       "<p>32560 rows × 4 columns</p>\n",
       "</div>"
      ],
      "text/plain": [
       "       capital-loss  hours-per-week native-country  gains\n",
       "0                 0            13.0  United-States  <=50K\n",
       "1                 0            40.0  United-States  <=50K\n",
       "2                 0            40.0  United-States  <=50K\n",
       "3                 0            40.0           Cuba  <=50K\n",
       "4                 0            40.0  United-States  <=50K\n",
       "...             ...             ...            ...    ...\n",
       "32555             0            38.0  United-States  <=50K\n",
       "32556             0            40.0  United-States   >50K\n",
       "32557             0            40.0  United-States  <=50K\n",
       "32558             0            20.0  United-States  <=50K\n",
       "32559             0            40.0  United-States   >50K\n",
       "\n",
       "[32560 rows x 4 columns]"
      ]
     },
     "execution_count": 35,
     "metadata": {},
     "output_type": "execute_result"
    }
   ],
   "source": [
    "adults.iloc[:,-4:]"
   ]
  },
  {
   "cell_type": "markdown",
   "metadata": {
    "collapsed": false,
    "id": "0q53Be6A3AHp",
    "jupyter": {
     "outputs_hidden": false
    }
   },
   "source": [
    "5. Utilizando el dataframe que has creado en el ejercicio 3.3, recupera el número de usuarios/as de nacionalidad cubana y solteros/as.  ¿Cómo lo harías sobre el dataframe adults que no tiene dicho índice?"
   ]
  },
  {
   "cell_type": "code",
   "execution_count": 37,
   "metadata": {
    "id": "0dH4XbPo3AHp"
   },
   "outputs": [
    {
     "name": "stderr",
     "output_type": "stream",
     "text": [
      "/var/folders/s6/jrljwskd5db3wl9nl031hg100000gn/T/ipykernel_16061/4146738547.py:1: PerformanceWarning: indexing past lexsort depth may impact performance.\n",
      "  adults_new_index.loc[('Unmarried','Cuba')].shape[0]\n"
     ]
    },
    {
     "data": {
      "text/plain": [
       "13"
      ]
     },
     "execution_count": 37,
     "metadata": {},
     "output_type": "execute_result"
    }
   ],
   "source": [
    "adults_new_index.loc[('Unmarried','Cuba')].shape[0]\n",
    "adults[(adults['relationship']=='Unmarried') & (adults['native-country']=='Cuba') ].shape[0]"
   ]
  },
  {
   "cell_type": "markdown",
   "metadata": {
    "collapsed": false,
    "id": "bb6KtA6o3AHp",
    "jupyter": {
     "outputs_hidden": false
    }
   },
   "source": [
    "6. EXTRA1: Busca todas aquellas mujeres solteras de nacionalidad cubana"
   ]
  },
  {
   "cell_type": "code",
   "execution_count": 38,
   "metadata": {
    "id": "UhVQBd6l3AHq"
   },
   "outputs": [
    {
     "name": "stdout",
     "output_type": "stream",
     "text": [
      "                              age workclass  fnlwgt     education  \\\n",
      "relationship native-country                                         \n",
      "Unmarried    Cuba            31.0   Private  243605     Bachelors   \n",
      "             Cuba            52.0   Private  366232           9th   \n",
      "             Cuba            38.0   Private  229180     Bachelors   \n",
      "             Cuba            72.0   Private  195184       HS-grad   \n",
      "             Cuba            46.0   Private  213408  Some-college   \n",
      "             Cuba            55.0   Private  223613       1st-4th   \n",
      "             Cuba            36.0   Private  229180  Some-college   \n",
      "             Cuba            47.0   Private  218435       HS-grad   \n",
      "             Cuba            40.0         ?  224361           9th   \n",
      "             Cuba            41.0   Private  183105       HS-grad   \n",
      "             Cuba            52.0   Private  318975       HS-grad   \n",
      "             Cuba            66.0   Private  236784     Bachelors   \n",
      "             Cuba            45.0   Private  297676    Assoc-acdm   \n",
      "\n",
      "                             education-num         marital-status  \\\n",
      "relationship native-country                                         \n",
      "Unmarried    Cuba                     13.0                Widowed   \n",
      "             Cuba                      5.0               Divorced   \n",
      "             Cuba                     13.0          Never-married   \n",
      "             Cuba                      9.0                Widowed   \n",
      "             Cuba                     10.0               Divorced   \n",
      "             Cuba                      2.0               Divorced   \n",
      "             Cuba                     10.0               Divorced   \n",
      "             Cuba                      9.0  Married-spouse-absent   \n",
      "             Cuba                      5.0               Divorced   \n",
      "             Cuba                      9.0              Separated   \n",
      "             Cuba                      9.0               Divorced   \n",
      "             Cuba                     13.0               Divorced   \n",
      "             Cuba                     12.0                Widowed   \n",
      "\n",
      "                                    occupation   race     sex  capital-gain  \\\n",
      "relationship native-country                                                   \n",
      "Unmarried    Cuba                        Sales  White  Female             0   \n",
      "             Cuba                 Craft-repair  White  Female             0   \n",
      "             Cuba              Exec-managerial  White  Female             0   \n",
      "             Cuba              Priv-house-serv  White  Female             0   \n",
      "             Cuba                        Sales  White  Female             0   \n",
      "             Cuba              Priv-house-serv  White  Female             0   \n",
      "             Cuba                 Craft-repair  White  Female             0   \n",
      "             Cuba                        Sales  White  Female             0   \n",
      "             Cuba                            ?  White  Female             0   \n",
      "             Cuba            Machine-op-inspct  White  Female             0   \n",
      "             Cuba                 Adm-clerical  White  Female             0   \n",
      "             Cuba               Prof-specialty  White  Female             0   \n",
      "             Cuba                        Sales  White  Female             0   \n",
      "\n",
      "                             capital-loss  hours-per-week  gains  \n",
      "relationship native-country                                       \n",
      "Unmarried    Cuba                    1380            40.0  <=50K  \n",
      "             Cuba                       0            40.0  <=50K  \n",
      "             Cuba                       0            40.0  <=50K  \n",
      "             Cuba                       0            12.0  <=50K  \n",
      "             Cuba                       0            40.0  <=50K  \n",
      "             Cuba                       0            30.0  <=50K  \n",
      "             Cuba                       0            40.0  <=50K  \n",
      "             Cuba                       0            20.0  <=50K  \n",
      "             Cuba                       0             5.0  <=50K  \n",
      "             Cuba                       0            44.0  <=50K  \n",
      "             Cuba                       0            40.0  <=50K  \n",
      "             Cuba                       0             8.0  <=50K  \n",
      "             Cuba                       0            40.0  <=50K  \n"
     ]
    },
    {
     "name": "stderr",
     "output_type": "stream",
     "text": [
      "/var/folders/s6/jrljwskd5db3wl9nl031hg100000gn/T/ipykernel_16061/2146383748.py:2: PerformanceWarning: indexing past lexsort depth may impact performance.\n",
      "  x=adults_new_index[adults_new_index['sex']=='Female'].loc[('Unmarried','Cuba')]\n"
     ]
    }
   ],
   "source": [
    "#adults[(adults['sex']=='Female') & (adults['native-country']=='Cuba') & (adults['relationship']=='Unmarried')]\n",
    "x=adults_new_index[adults_new_index['sex']=='Female'].loc[('Unmarried','Cuba')]\n",
    "print(x)\n"
   ]
  },
  {
   "cell_type": "markdown",
   "metadata": {
    "collapsed": false,
    "id": "bEPZm57y3AHr",
    "jupyter": {
     "outputs_hidden": false
    }
   },
   "source": [
    "7. EXTRA2: Busca todas aquellas mujeres solteras de nacionalidad cubana que trabajen más de 40 horas a la semana"
   ]
  },
  {
   "cell_type": "code",
   "execution_count": 39,
   "metadata": {
    "id": "m8itTOqA3AHr"
   },
   "outputs": [
    {
     "data": {
      "text/html": [
       "<div>\n",
       "<style scoped>\n",
       "    .dataframe tbody tr th:only-of-type {\n",
       "        vertical-align: middle;\n",
       "    }\n",
       "\n",
       "    .dataframe tbody tr th {\n",
       "        vertical-align: top;\n",
       "    }\n",
       "\n",
       "    .dataframe thead th {\n",
       "        text-align: right;\n",
       "    }\n",
       "</style>\n",
       "<table border=\"1\" class=\"dataframe\">\n",
       "  <thead>\n",
       "    <tr style=\"text-align: right;\">\n",
       "      <th></th>\n",
       "      <th>age</th>\n",
       "      <th>workclass</th>\n",
       "      <th>fnlwgt</th>\n",
       "      <th>education</th>\n",
       "      <th>education-num</th>\n",
       "      <th>marital-status</th>\n",
       "      <th>occupation</th>\n",
       "      <th>relationship</th>\n",
       "      <th>race</th>\n",
       "      <th>sex</th>\n",
       "      <th>capital-gain</th>\n",
       "      <th>capital-loss</th>\n",
       "      <th>hours-per-week</th>\n",
       "      <th>native-country</th>\n",
       "      <th>gains</th>\n",
       "    </tr>\n",
       "  </thead>\n",
       "  <tbody>\n",
       "    <tr>\n",
       "      <th>19719</th>\n",
       "      <td>41.0</td>\n",
       "      <td>Private</td>\n",
       "      <td>183105</td>\n",
       "      <td>HS-grad</td>\n",
       "      <td>9.0</td>\n",
       "      <td>Separated</td>\n",
       "      <td>Machine-op-inspct</td>\n",
       "      <td>Unmarried</td>\n",
       "      <td>White</td>\n",
       "      <td>Female</td>\n",
       "      <td>0</td>\n",
       "      <td>0</td>\n",
       "      <td>44.0</td>\n",
       "      <td>Cuba</td>\n",
       "      <td>&lt;=50K</td>\n",
       "    </tr>\n",
       "  </tbody>\n",
       "</table>\n",
       "</div>"
      ],
      "text/plain": [
       "        age workclass  fnlwgt education  education-num marital-status  \\\n",
       "19719  41.0   Private  183105   HS-grad            9.0      Separated   \n",
       "\n",
       "              occupation relationship   race     sex  capital-gain  \\\n",
       "19719  Machine-op-inspct    Unmarried  White  Female             0   \n",
       "\n",
       "       capital-loss  hours-per-week native-country  gains  \n",
       "19719             0            44.0           Cuba  <=50K  "
      ]
     },
     "execution_count": 39,
     "metadata": {},
     "output_type": "execute_result"
    }
   ],
   "source": [
    "adults[(adults['sex']=='Female') & (adults['native-country']=='Cuba') & (adults['relationship']=='Unmarried') & (adults['hours-per-week']> 40)]"
   ]
  },
  {
   "cell_type": "markdown",
   "metadata": {
    "collapsed": false,
    "id": "-2P6hgjk3AHr",
    "jupyter": {
     "outputs_hidden": false
    }
   },
   "source": [
    "8. EXTRA3: Crea un nuevo dataframe que contenga exclusivamente a aquellos usuarios con nacionalidad portuguesa, francesa o nord-americana. Pista: utiliza la función isin. Borra las columnas occupation, capital-gain y capital-loss. Crea una nueva columna 'age-range' que tome los valores young para usuarios menores de 30 años, old para mayores de 60 y intermediate en cualquier otro caso."
   ]
  },
  {
   "cell_type": "code",
   "execution_count": null,
   "metadata": {
    "id": "atYBx5U23AHr"
   },
   "outputs": [],
   "source": [
    "import numpy as np\n",
    "\n",
    "adults_filter = adults[adults['native-country'].isin([' Portugal',' France','United-States','Canada','Mexico'])]\n",
    "\n",
    "adults_filter = adults_filter.drop(columns=['occupation','capital-gain','capital-loss'])\n",
    "\n",
    "#Solución 0\n",
    "\n",
    "conditions = [(adults_filter['age']<30), (adults_filter['age']>=30) & (adults_filter['age']<60), (adults_filter['age']>60)]\n",
    "values = ['young','intermediate', 'old']\n",
    "adults_filter['age-range'] = np.select(conditions, values)\n",
    "adults_filter\n",
    "\n",
    "#Solución 1\n",
    "adults_filter['age-range']=adults_filter.apply(lambda row: 'YOUNG' if row['age']<30 else('OLD' if row['age']>60 else 'intermediate') ,axis=1 )\n",
    "\n",
    "#Solución 2\n",
    "def agemap_function(x):\n",
    "    if 0.0<= x <30: return 'young'\n",
    "    elif 30<=x<=60: return 'intermediate'\n",
    "    elif 60<= x <=100: return 'old'\n",
    "adults_filter['age-range']=adults_filter['age'].apply(agemap_function)\n",
    "\n",
    "#Solución 3\n",
    "adults_filter.assign(age_range='young')[adults_filter['age']<30]\n",
    "adults_filter.assign(age_range='old')[adults_filter['age']>60]\n",
    "adults_filter.assign(age_range='intermediate')[(adults_filter['age']>30) & (adults_filter['age']>30)]\n",
    "\n",
    "#Solución 4\n",
    "lst = []\n",
    "for i in adults_filter['age']:\n",
    "    if i < 30:\n",
    "        lst.append('Young')\n",
    "    elif i > 60:\n",
    "        lst.append('Old')\n",
    "    else:\n",
    "        lst.append('Mid')\n",
    "\n",
    "adults_filter['age-range'] = lst\n",
    "adults_filter"
   ]
  },
  {
   "cell_type": "markdown",
   "metadata": {
    "collapsed": false,
    "id": "FcvG2wNx3AHr",
    "jupyter": {
     "outputs_hidden": false
    }
   },
   "source": [
    "9. EXTRA4: Busca información sobre las funciones isnull, dropna y fillna. ¿Para qué se utilizan? Por un ejemplo interesante para cada una de ellas dónde se demuestre su utilidad."
   ]
  },
  {
   "cell_type": "markdown",
   "metadata": {
    "collapsed": false,
    "id": "FCyQAO9N3AHs",
    "jupyter": {
     "outputs_hidden": false
    }
   },
   "source": [
    "### *Ejercicio 5: Agrupaciones*\n",
    "\n",
    "1. Tomando los datos presentes en este dataset, ¿Cuál es la nacionalidad que tiene una mayor media de edad? ¿Y menor media?\n"
   ]
  },
  {
   "cell_type": "code",
   "execution_count": null,
   "metadata": {
    "id": "nmD5Few53AHs"
   },
   "outputs": [],
   "source": [
    "#adults.groupby('native-country')['age'].mean().sort_values()\n",
    "adults.groupby('native-country').age.mean().idxmin()\n",
    "adults.groupby('native-country').age.mean().idxmax()"
   ]
  },
  {
   "cell_type": "markdown",
   "metadata": {
    "collapsed": false,
    "id": "zFkeGLjM3AHs",
    "jupyter": {
     "outputs_hidden": false
    }
   },
   "source": [
    "### *Ejercicio 6: Gráficos*\n",
    "\n",
    "1. Para cada columna (o feature) numérica, crea un gráfico de barras que muestre su distribución de valores.\n"
   ]
  },
  {
   "cell_type": "code",
   "execution_count": null,
   "metadata": {
    "id": "ATv2ahfz3AHt"
   },
   "outputs": [],
   "source": [
    "import matplotlib.pyplot as plt\n",
    "\n",
    "#Opción 1 para todas las features numéricas\n",
    "\n",
    "adults.hist(bins=20,figsize=(15,15))\n",
    "plt.show()\n",
    "\n",
    "#Una a una cada feature:\n",
    "\n",
    "adults['age'].hist()\n",
    "\n",
    "#Selección de las features que nos interesen\n",
    "\n",
    "adults.hist(column=['age','hours-per-week'],bins=20,figsize=(10,4))"
   ]
  },
  {
   "cell_type": "markdown",
   "metadata": {
    "collapsed": false,
    "id": "k-_NjuKp3AHt",
    "jupyter": {
     "outputs_hidden": false
    }
   },
   "source": [
    "2. EXTRA: A continuación tienes un código que crea gráficos que muestran la distribución de las ganancias respecto al resto de columnas. Extrae conclusiones de los resultados y propón realizar estos gráficos para otra columna que consideres de interés."
   ]
  },
  {
   "cell_type": "code",
   "execution_count": null,
   "metadata": {
    "id": "KJddAOhm3AHt",
    "outputId": "9f2c880f-1891-475b-f036-e96255758fb4"
   },
   "outputs": [],
   "source": [
    "import matplotlib.pyplot as plt\n",
    "import seaborn as sns\n",
    "import numpy as np\n",
    "\n",
    "df_numerics = adults.select_dtypes(include = np.number)\n",
    "\n",
    "figure=plt.figure(figsize = (15, 6))\n",
    "\n",
    "for i, column in enumerate(df_numerics.columns, 1):\n",
    "    axes = figure.add_subplot(3,3,i)\n",
    "    sns.kdeplot(x = df_numerics[column], hue = adults['gains'], fill = True, ax = axes)\n",
    "    figure.tight_layout()"
   ]
  },
  {
   "cell_type": "markdown",
   "metadata": {
    "collapsed": false,
    "id": "LcqlA7AT3AHu",
    "jupyter": {
     "outputs_hidden": false
    }
   },
   "source": [
    "### *Ejercicio 7: Valores missing*\n",
    "\n",
    "1. Gestiona los valores nulos con la técnica del rellenado. ¿Qué valores piensas que deberían de tener los nulos presentes en el dataset?"
   ]
  },
  {
   "cell_type": "code",
   "execution_count": null,
   "metadata": {
    "id": "uRWErVY13AHu"
   },
   "outputs": [],
   "source": [
    "adults.isnull().sum()\n",
    "\n",
    "#Age: análisis y búsqueda del mejor valor de forma específica\n",
    "\n",
    "#1. Visualizamos la fila\n",
    "adults[adults['age'].isnull()]\n",
    "#2. Calculamos la edad media de mujeres y madres solteras\n",
    "value = adults[(adults['sex']=='Female') & (adults['relationship']=='Own-child')].age.mean() #24.626114081996434\n",
    "print(value)\n",
    "#3. Rellenamos con dicho valor\n",
    "adults['age'].fillna(value) #En todas as baleiras\n",
    "adults.iloc[50,0]=value     #Na fila 50\n",
    "#4. Revisamos que se haya aplicado el cambio\n",
    "adults.iloc[50,:]\n",
    "\n",
    "#Workclass: rellenamos con la moda\n",
    "adults['workclass'].fillna(adults['workclass'].mode())\n",
    "\n",
    "#Race: haremos un rellenado aleatorio con el valor siguiente gracias al método bfill\n",
    "adults['race'].bfill(axis=0)\n",
    "\n",
    "#Hours-per-week: haremos un rellenado con el valor anterior gracias al método ffill\n",
    "adults['hours-per-week'].ffill(axis=0)"
   ]
  },
  {
   "cell_type": "markdown",
   "metadata": {
    "collapsed": false,
    "id": "h9ugRHFt3AHv",
    "jupyter": {
     "outputs_hidden": false
    }
   },
   "source": [
    "2. Borra las columnas fnlwgt, education, capital_gain y capital_loss."
   ]
  },
  {
   "cell_type": "code",
   "execution_count": null,
   "metadata": {
    "id": "c_qMGKAu3AHv"
   },
   "outputs": [],
   "source": [
    "adults = adults.drop(columns=['fnlwgt','education','capital-gain','capital-loss'])"
   ]
  },
  {
   "cell_type": "markdown",
   "metadata": {
    "collapsed": false,
    "id": "4-CRImUK3AHv",
    "jupyter": {
     "outputs_hidden": false
    }
   },
   "source": [
    "### *Ejercicio 8: Datos categóricos*"
   ]
  },
  {
   "cell_type": "markdown",
   "metadata": {
    "collapsed": false,
    "id": "vUUsaloB3AHv",
    "jupyter": {
     "outputs_hidden": false
    }
   },
   "source": [
    "1. Transforma todas las columnas categóricas a numéricas con un LabelEncoder."
   ]
  },
  {
   "cell_type": "code",
   "execution_count": null,
   "metadata": {
    "id": "YOmwL4JQ3AHv"
   },
   "outputs": [],
   "source": [
    "from sklearn.preprocessing import LabelEncoder\n",
    "\n",
    "adults_num = adults.copy()\n",
    "categorical_columns = adults_num.select_dtypes(include=object).columns.tolist()\n",
    "adults_num[categorical_columns]=adults_num[categorical_columns].apply(LabelEncoder().fit_transform)\n",
    "adults_num"
   ]
  },
  {
   "cell_type": "markdown",
   "metadata": {
    "collapsed": false,
    "id": "w-4DRz813AHv",
    "jupyter": {
     "outputs_hidden": false
    }
   },
   "source": [
    "### *Ejercicio 9: Escalado de los datos*\n",
    "\n",
    "1. EXTRA1: Divide el dataset en 4 grupos (training y testing).\n",
    "2. EXTRA2: Escala las columnas categóricas con un StandardScaler."
   ]
  },
  {
   "cell_type": "code",
   "execution_count": null,
   "metadata": {},
   "outputs": [],
   "source": [
    "from sklearn.model_selection import train_test_split\n",
    "\n",
    "y = adults_num['gains'].values\n",
    "X = adults_num.drop('gains',axis=1).values\n",
    "\n",
    "X_train, X_test, y_train, y_test = train_test_split(X, y, test_size = 0.3, random_state=42)\n"
   ]
  },
  {
   "cell_type": "code",
   "execution_count": null,
   "metadata": {},
   "outputs": [],
   "source": [
    "from sklearn.preprocessing import StandardScaler\n",
    "sc = StandardScaler()\n",
    "X_train = sc.fit_transform(X_train)\n",
    "X_test = sc.transform(X_test)\n",
    "X_train"
   ]
  },
  {
   "cell_type": "markdown",
   "metadata": {
    "collapsed": false,
    "id": "dWUKBXFL3AHw",
    "jupyter": {
     "outputs_hidden": false
    }
   },
   "source": [
    "# Webgrafía\n",
    "\n",
    "\n",
    "[Curso de Cesar Guirò](https://cesguiro.es/doku.php?id=clase:ia:saa:start)\n",
    "[Curso de Luz Frías](https://github.com/koldLight/curso-python-analisis-datos)\n",
    "[Curso de Tirtjakupto Sarkar](https://github.com/tirthajyoti/Machine-Learning-with-Python)\n",
    "[DataCamp](https://www.datacamp.com/)\n"
   ]
  },
  {
   "cell_type": "markdown",
   "metadata": {
    "collapsed": false,
    "id": "8S5JP8jH3AHw",
    "jupyter": {
     "outputs_hidden": false
    }
   },
   "source": [
    "# Licencia\n",
    "\n",
    "[Attributon-ShacerAlike 4.0 International](https://creativecommons.org/licenses/by-sa/4.0/)\n",
    "\n",
    "Puedes utilizar libremente este material, con las siguientes condiciones:\n",
    "\n",
    "* Atribuir la autoría a este documento.\n",
    "* Si lo utilizas y haces cambios, deberás liberarlo también bajo la misma licencia."
   ]
  }
 ],
 "metadata": {
  "colab": {
   "provenance": []
  },
  "kernelspec": {
   "display_name": "Python 3 (ipykernel)",
   "language": "python",
   "name": "python3"
  },
  "language_info": {
   "codemirror_mode": {
    "name": "ipython",
    "version": 3
   },
   "file_extension": ".py",
   "mimetype": "text/x-python",
   "name": "python",
   "nbconvert_exporter": "python",
   "pygments_lexer": "ipython3",
   "version": "3.12.4"
  }
 },
 "nbformat": 4,
 "nbformat_minor": 4
}
