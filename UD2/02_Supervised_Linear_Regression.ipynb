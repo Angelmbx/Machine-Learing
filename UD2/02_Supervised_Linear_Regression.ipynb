{
 "cells": [
  {
   "cell_type": "markdown",
   "metadata": {
    "collapsed": false,
    "id": "FopVNGjPJtS9",
    "jupyter": {
     "outputs_hidden": false
    }
   },
   "source": [
    "# Linear Regression\n",
    "#### UD2. Aprendizaxe Supervisada\n",
    "#### MP. Sistemas de Aprendizaxe Automáticos\n",
    "#### IES de Teis (Vigo), Vanesa Reśua Eiras, Cristina Gómez Alonso\n",
    "\n",
    "En estadística, **la regresión lineal es un enfoque lineal para modelar la relación entre una variable dependiente escalar y y una o más variables explicativas (o variables independientes) denominadas X**. El caso de una variable explicativa se denomina **regresión lineal simple o univariable**. Para más de una variable explicativa, el proceso se denomina **regresión lineal múltiple**.\n",
    "\n",
    "En este notebook volveremos a utilizar el notebook de estimación de precios que vimos en el notebook de Exploratory Data Analysis. Tenéis todos los detalles en  la web de [kaggle](https://www.kaggle.com/camnugent/california-housing-prices)"
   ]
  },
  {
   "cell_type": "markdown",
   "metadata": {
    "collapsed": false,
    "id": "8DiWkJiEJtTD",
    "jupyter": {
     "outputs_hidden": false
    }
   },
   "source": [
    "## 1. Importación de paquetes y dataset"
   ]
  },
  {
   "cell_type": "code",
   "execution_count": null,
   "metadata": {
    "colab": {
     "base_uri": "https://localhost:8080/",
     "height": 382
    },
    "executionInfo": {
     "elapsed": 324,
     "status": "error",
     "timestamp": 1678227621422,
     "user": {
      "displayName": "Ernesto Frías Nores",
      "userId": "04050836756016798788"
     },
     "user_tz": -60
    },
    "id": "sjRpBuIGJtTE",
    "outputId": "f2ca5036-1397-48f6-e69c-14641d160f42"
   },
   "outputs": [],
   "source": [
    "# Estas son las bibliotecas necesarias para la manipulación de datos en el ejercicio\n",
    "import numpy as np\n",
    "import pandas as pd\n",
    "import matplotlib.pyplot as plt\n",
    "import seaborn as sns\n",
    "\n",
    "# Cargar los datos, fichero “housing.csv”\n",
    "df = pd.read_csv(\"./data/housing.csv\")\n",
    "df.head()"
   ]
  },
  {
   "cell_type": "markdown",
   "metadata": {
    "collapsed": false,
    "id": "jIVdB4s0JtTH",
    "jupyter": {
     "outputs_hidden": false
    }
   },
   "source": [
    "## 2. EDA y Visual EDA"
   ]
  },
  {
   "cell_type": "code",
   "execution_count": null,
   "metadata": {
    "id": "W2pCFfdUJtTI",
    "outputId": "4aaf8b7f-faa7-47b2-ed4f-8b6027f6d5e8"
   },
   "outputs": [],
   "source": [
    "# Visualización preliminar de los datos. Mostrar las primeras filas del dataframe\n",
    "df.head()"
   ]
  },
  {
   "cell_type": "code",
   "execution_count": null,
   "metadata": {
    "id": "Ze9uGfl0JtTJ",
    "outputId": "360a25d7-ed13-4b2f-a691-b06c4dc8df9e"
   },
   "outputs": [],
   "source": [
    "# Comprobar la información del dataframe cargado\n",
    "df.info()"
   ]
  },
  {
   "cell_type": "code",
   "execution_count": null,
   "metadata": {
    "id": "L6uDVuldJtTK",
    "outputId": "934e6ad1-cb71-4f17-a3cd-b726c2141bfa"
   },
   "outputs": [],
   "source": [
    "# Comprobar si existen valores nulos o faltan\n",
    "df.isnull().sum()"
   ]
  },
  {
   "cell_type": "code",
   "execution_count": null,
   "metadata": {
    "id": "j77tJBf7JtTL",
    "outputId": "d38cf5f3-3ef7-409b-e16b-a302c090028f"
   },
   "outputs": [],
   "source": [
    "# Primera aproximación estadística de los datos de que disponemos\n",
    "# Visualiza los parámetros estadíscos tipo de cada columna del dataframe:\n",
    "# - Número de datos\n",
    "# - Madia\n",
    "# - Desviación estándar\n",
    "# - Valor máximo\n",
    "# - Valor mínimo\n",
    "# - Percentiles\n",
    "df.describe(percentiles=[0.1,0.25,0.5,0.75,0.9])"
   ]
  },
  {
   "cell_type": "code",
   "execution_count": null,
   "metadata": {
    "id": "yoO-mxDeJtTM",
    "outputId": "28d5340e-5e71-4a5a-b85c-c06291717e50"
   },
   "outputs": [],
   "source": [
    "# Listar columnas del dataframe\n",
    "\n",
    "df.columns"
   ]
  },
  {
   "cell_type": "code",
   "execution_count": null,
   "metadata": {
    "id": "J8JM2-1OJtTN",
    "outputId": "c21f367e-1622-4307-e0d3-396cdf70b30e"
   },
   "outputs": [],
   "source": [
    "#Mostrar gráficamente relaciones entre columnas numéricas\n",
    "sns.pairplot(df)"
   ]
  },
  {
   "cell_type": "code",
   "execution_count": null,
   "metadata": {
    "id": "zg1BO51uJtTO",
    "outputId": "868ffb3c-7efc-4e2c-ba4f-a49385a55f02"
   },
   "outputs": [],
   "source": [
    "df['median_house_value'].plot.hist(bins=25,figsize=(8,4))"
   ]
  },
  {
   "cell_type": "code",
   "execution_count": null,
   "metadata": {
    "id": "afW64NfwJtTP",
    "outputId": "a6775d64-6617-4457-aa80-972a7a4e694c"
   },
   "outputs": [],
   "source": [
    "df['median_house_value'].plot.density()"
   ]
  },
  {
   "cell_type": "code",
   "execution_count": null,
   "metadata": {
    "id": "Xgx9ACBRJtTQ",
    "outputId": "23de9571-faa9-475c-ce79-ac5873256baa"
   },
   "outputs": [],
   "source": [
    "df.corr()"
   ]
  },
  {
   "cell_type": "code",
   "execution_count": null,
   "metadata": {
    "id": "jz95ANhLJtTQ",
    "outputId": "7971df08-9786-4788-84cb-edb9a528867c"
   },
   "outputs": [],
   "source": [
    "plt.figure(figsize=(10,7))\n",
    "sns.heatmap(df.corr(),annot=True,linewidths=2)"
   ]
  },
  {
   "cell_type": "markdown",
   "metadata": {
    "collapsed": false,
    "id": "fn6dOGabJtTR",
    "jupyter": {
     "outputs_hidden": false
    }
   },
   "source": [
    "## 3. Preprocessing"
   ]
  },
  {
   "cell_type": "code",
   "execution_count": null,
   "metadata": {
    "id": "JznifOduJtTS",
    "outputId": "d0eec95a-22e1-4ce3-ec2d-71d5ccaeeea8"
   },
   "outputs": [],
   "source": [
    "# Estrategias de acción ante posibles valores nulos o NaN\n",
    "# (1) Eliminarlos del conjunto de datos\n",
    "# (2) Rellenar esos valores con el valor medio del resto de valores de la columna\n",
    "# (3) Rellenar esos valores con el valor más común en la columna (moda)\n",
    "# (4) Otra estrategia en función del conocimiento del negocio, bbdd, etc.\n",
    "\n",
    "# En este caso, vamos a elegir la estrategia (1)\n",
    "# Vamos rellenar los valores no existentes con al valor medio de su columna\n",
    "df['total_bedrooms'].fillna(df['total_bedrooms'].mean())"
   ]
  },
  {
   "cell_type": "code",
   "execution_count": null,
   "metadata": {
    "id": "GeM-DSSbJtTT",
    "outputId": "26202a9b-d8f1-40de-c20d-6a4c81332ddc"
   },
   "outputs": [],
   "source": [
    "# Tratamiento de las variables categóricas\n",
    "# Convertir las variables categóricas a numéricas\n",
    "# Si solo es una columna:\n",
    "from sklearn.preprocessing import LabelEncoder\n",
    "class_label_encoder = LabelEncoder()\n",
    "df['ocean_proximity'] = class_label_encoder.fit_transform(df['ocean_proximity'].values)\n",
    "# Si tenemos múltiples columnas, haríamos:\n",
    "from sklearn.preprocessing import LabelEncoder\n",
    "df=df.apply(LabelEncoder().fit_transform)\n",
    "df.head()"
   ]
  },
  {
   "cell_type": "markdown",
   "metadata": {
    "collapsed": false,
    "id": "ItKPPclEJtTU",
    "jupyter": {
     "outputs_hidden": false
    }
   },
   "source": [
    "## 4. División del dataset\n",
    "\n",
    "Ponemos todas las características numéricas en X y el precio(median_house_value) en y."
   ]
  },
  {
   "cell_type": "code",
   "execution_count": null,
   "metadata": {
    "id": "vjqttjSIJtTW",
    "outputId": "abb9b2c8-3318-49e6-d89e-9b6e8cf7d3fc"
   },
   "outputs": [],
   "source": [
    "# Separar las variables (X) y las etiquetas (y) del conjunto de datos\n",
    "X = df.iloc[:, :-1].values\n",
    "# Separar la etiqueta (y) median_house_value\n",
    "y = df.iloc[:, [-1]].values\n",
    "print(\"Feature set size:\",X.shape)\n",
    "print(\"Variable set size:\",y.shape)\n"
   ]
  },
  {
   "cell_type": "code",
   "execution_count": null,
   "metadata": {
    "id": "Qz3iNLPvJtTX"
   },
   "outputs": [],
   "source": [
    "#Otra alternativa equivalente a lo anterior si no queremos utilizar iloc también podemos acceder por columnas\n",
    "#l_column = list(df.columns) # Making a list out of column names\n",
    "#len_feature = len(l_column) # Length of column vector list\n",
    "#l_column\n",
    "#X = df[l_column[0:len_feature-1]]\n",
    "#y = df[l_column[len_feature-1]]\n",
    "#print(\"Feature set size:\",X.shape)\n",
    "#print(\"Variable set size:\",y.shape)\n",
    "#X.head()\n",
    "#y.head()"
   ]
  },
  {
   "cell_type": "markdown",
   "metadata": {
    "collapsed": false,
    "id": "AOuSA97yJtTX",
    "jupyter": {
     "outputs_hidden": false
    }
   },
   "source": [
    "Dividimos el dataset en 4 grupos:"
   ]
  },
  {
   "cell_type": "code",
   "execution_count": null,
   "metadata": {
    "id": "1WI9uzH5JtTY"
   },
   "outputs": [],
   "source": [
    "from sklearn.model_selection import train_test_split\n",
    "X_train, X_test, y_train, y_test = train_test_split(X, y, test_size=0.2, random_state=0)"
   ]
  },
  {
   "cell_type": "markdown",
   "metadata": {
    "collapsed": false,
    "id": "PKsXvqpmJtTY",
    "jupyter": {
     "outputs_hidden": false
    }
   },
   "source": [
    "Verificamos las divisiones train/test (deben estar en la proporción según el parámetro test_size anterior)"
   ]
  },
  {
   "cell_type": "code",
   "execution_count": null,
   "metadata": {
    "id": "5OJxROYFJtTY",
    "outputId": "b77877c0-d057-4f2a-ec67-6e7d6ce0cb30"
   },
   "outputs": [],
   "source": [
    "print(\"Training feature set size:\",X_train.shape)\n",
    "print(\"Test feature set size:\",X_test.shape)\n",
    "print(\"Training variable set size:\",y_train.shape)\n",
    "print(\"Test variable set size:\",y_test.shape)"
   ]
  },
  {
   "cell_type": "markdown",
   "metadata": {
    "collapsed": false,
    "id": "zreJGN74JtTZ",
    "jupyter": {
     "outputs_hidden": false
    }
   },
   "source": [
    "## 5. Estandarización de los datos"
   ]
  },
  {
   "cell_type": "code",
   "execution_count": null,
   "metadata": {
    "id": "KVFTGM3nJtTa"
   },
   "outputs": [],
   "source": [
    "# La estandarización de los datos es importante, como parte del preproceso\n",
    "# y limpieza de los y antes de haber sido usados en la elaboración del modelo.\n",
    "from sklearn.preprocessing import StandardScaler\n",
    "\n",
    "scaler = StandardScaler()\n",
    "X_train = scaler.fit_transform(X_train)\n",
    "X_test = scaler.transform(X_test)\n",
    "y_train = scaler.fit_transform(y_train)\n",
    "y_test = scaler.transform(y_test)"
   ]
  },
  {
   "cell_type": "markdown",
   "metadata": {
    "collapsed": false,
    "id": "C9ybfgXzJtTa",
    "jupyter": {
     "outputs_hidden": false
    }
   },
   "source": [
    "## 6. Creación del modelo Linear Regression"
   ]
  },
  {
   "cell_type": "code",
   "execution_count": null,
   "metadata": {
    "id": "wBp8XoKjJtTa"
   },
   "outputs": [],
   "source": [
    "from sklearn.linear_model import LinearRegression\n",
    "lm = LinearRegression()"
   ]
  },
  {
   "cell_type": "markdown",
   "metadata": {
    "collapsed": false,
    "id": "EHwSoVxeJtTb",
    "jupyter": {
     "outputs_hidden": false
    }
   },
   "source": [
    "## 7. Entrenamiento"
   ]
  },
  {
   "cell_type": "code",
   "execution_count": null,
   "metadata": {
    "id": "DW04KHz5JtTb",
    "outputId": "27729da7-09f7-4547-c221-6a0d443796f7"
   },
   "outputs": [],
   "source": [
    "lm.fit(X_train,y_train)"
   ]
  },
  {
   "cell_type": "code",
   "execution_count": null,
   "metadata": {
    "id": "oN8sjjtJJtTb",
    "outputId": "ec8dfe14-ed17-4f52-d33a-33accebef6ee"
   },
   "outputs": [],
   "source": [
    "print(\"The intercept term of the linear model:\", lm.intercept_)"
   ]
  },
  {
   "cell_type": "code",
   "execution_count": null,
   "metadata": {
    "id": "UUMT_sIQJtTc",
    "outputId": "a4403e4e-d7c2-4de0-b716-859dd7469484"
   },
   "outputs": [],
   "source": [
    "print(\"The coefficients of the linear model:\", lm.coef_)"
   ]
  },
  {
   "cell_type": "code",
   "execution_count": null,
   "metadata": {
    "id": "zFl9-ecfJtTd"
   },
   "outputs": [],
   "source": [
    "#cdf = pd.DataFrame(data=lm.coef_, index=X_train.columns, columns=[\"Coefficients\"])\n",
    "#cdf"
   ]
  },
  {
   "cell_type": "markdown",
   "metadata": {
    "collapsed": false,
    "id": "q2zMLScuJtTd",
    "jupyter": {
     "outputs_hidden": false
    }
   },
   "source": [
    "## 8. Predicción"
   ]
  },
  {
   "cell_type": "code",
   "execution_count": null,
   "metadata": {
    "id": "9EpyerlqJtTe",
    "outputId": "2d0a6356-f979-4e9b-ed46-21938aaaee75"
   },
   "outputs": [],
   "source": [
    "# Realizamos una predicción con el modelo de regresión lineal\n",
    "predictions = lm.predict(X_test)\n",
    "print (\"Type of the predicted object:\", type(predictions))\n",
    "print (\"Size of the predicted object:\", predictions.shape)"
   ]
  },
  {
   "cell_type": "markdown",
   "metadata": {
    "collapsed": false,
    "id": "3TTc_RNMJtTe",
    "jupyter": {
     "outputs_hidden": false
    }
   },
   "source": [
    "## 9. Cálculo de errores"
   ]
  },
  {
   "cell_type": "code",
   "execution_count": null,
   "metadata": {
    "id": "4jcmIC8oJtTe",
    "outputId": "6650a2a1-a4bb-435c-e487-6607778ed951"
   },
   "outputs": [],
   "source": [
    "#En la regresión linel nos fijaremos principalmente en el MSE Error Cuadrático Medio\n",
    "# Calcular el error cometido en la predicción mediante el uso de la raiz del error cuadrático medio\n",
    "\n",
    "\n",
    "from sklearn.metrics import mean_squared_error\n",
    "\n",
    "mseLinear = metrics.mean_squared_error(y_test,predictions)\n",
    "print('Error Cuadrático Medio (MSE) para el modelo de regresión linear = %.5f' % mseLinear)"
   ]
  },
  {
   "cell_type": "code",
   "execution_count": null,
   "metadata": {
    "id": "gFuFA5_jJtTf",
    "outputId": "1a233a19-3792-403f-8cd6-42326efc8748"
   },
   "outputs": [],
   "source": [
    "#También podemos mostrar otros errores\n",
    "from sklearn import metrics\n",
    "print(\"Mean absolute error (MAE):\", metrics.mean_absolute_error(y_test,predictions))\n",
    "print(\"Mean square error (MSE):\", metrics.mean_squared_error(y_test,predictions))\n",
    "print(\"Root mean square error (RMSE):\", np.sqrt(metrics.mean_squared_error(y_test,predictions)))\n",
    "print(\"R-squared value of predictions:\",round(metrics.r2_score(y_test,predictions),3))"
   ]
  },
  {
   "cell_type": "markdown",
   "metadata": {
    "collapsed": false,
    "id": "0uQjv0LAJtTf",
    "jupyter": {
     "outputs_hidden": false
    }
   },
   "source": [
    "## 10. Gráfico de puntos del precio predicho y el y_test"
   ]
  },
  {
   "cell_type": "code",
   "execution_count": null,
   "metadata": {
    "id": "sdIna8GBJtTg",
    "outputId": "94e46ed1-1fb7-4c0b-b406-16309f1b0fb2"
   },
   "outputs": [],
   "source": [
    "plt.figure(figsize=(10,7))\n",
    "plt.title(\"Actual vs. predicted house prices\",fontsize=25)\n",
    "plt.xlabel(\"Actual test set house prices\",fontsize=18)\n",
    "plt.ylabel(\"Predicted house prices\", fontsize=18)\n",
    "plt.scatter(x=y_test,y=predictions)"
   ]
  },
  {
   "cell_type": "markdown",
   "metadata": {
    "collapsed": false,
    "id": "3176GDhSJtTg",
    "jupyter": {
     "outputs_hidden": false
    }
   },
   "source": [
    "## 11. Regresión Lineal Univariable"
   ]
  },
  {
   "cell_type": "code",
   "execution_count": null,
   "metadata": {
    "id": "1vymnTFBJtTg",
    "outputId": "a3c09cc4-645b-45cf-abed-bffadd7871bb"
   },
   "outputs": [],
   "source": [
    "#Regresión lineal solo con la variable median_income\n",
    "\n",
    "X_train_median_income = X_train[: , [7]]\n",
    "X_test_median_income = X_test[: , [7]]\n",
    "\n",
    "# Construye un modelo de regresión lineal usando esta vez median_income como\n",
    "# variable independiente.\n",
    "from sklearn.linear_model import LinearRegression\n",
    "linearRegression2 = LinearRegression()\n",
    "\n",
    "# Entrenar el modelo anterior\n",
    "linearRegression2.fit(X_train_median_income, y_train)\n",
    "# Realiza la predicción con el modelo anterior\n",
    "predictionLinear2 = linearRegression2.predict(X_test_median_income)\n",
    "\n",
    "\n",
    "mseLinear2 = mean_squared_error(y_test, predictionLinear2)\n",
    "\n",
    "print(' Raíz del Error Cuadrático Medio (RMSE) para el modelo de regresión linear = %.5f' % mseLinear2)\n",
    "\n",
    "plt.scatter(X_train_median_income, y_train, color = 'green')\n",
    "# X = X_train_median_income\n",
    "# Y = linearRegression2.predict(X_train_median_income)\n",
    "plt.plot (X_train_median_income, linearRegression2.predict(X_train_median_income), color = 'red')\n",
    "\n",
    "plt.title ('Resultados entrenamiento - Ingreso medio / Valor medio de la vivienda')\n",
    "plt.xlabel('Ingreso medio')\n",
    "plt.ylabel('Valor medio vivienda')\n",
    "plt.show()"
   ]
  },
  {
   "cell_type": "markdown",
   "metadata": {
    "collapsed": false,
    "id": "HUBP_6i6JtTh",
    "jupyter": {
     "outputs_hidden": false
    }
   },
   "source": [
    "### *Ejercicio: Alturas*\n",
    "\n",
    "Con el dataset heights.csv (altura de padres e hijos):\n",
    "\n",
    "1. Crea un dataframe de pandas con la información del dataset."
   ]
  },
  {
   "cell_type": "code",
   "execution_count": null,
   "metadata": {
    "id": "7LAST2HrJtTh"
   },
   "outputs": [],
   "source": []
  },
  {
   "cell_type": "markdown",
   "metadata": {
    "collapsed": false,
    "id": "D3xrPw86JtTi",
    "jupyter": {
     "outputs_hidden": false
    }
   },
   "source": [
    "2. Muestra la información del dataset y un gráfico que relacione ambos datos."
   ]
  },
  {
   "cell_type": "code",
   "execution_count": null,
   "metadata": {
    "id": "M5rWXfKFJtTi"
   },
   "outputs": [],
   "source": []
  },
  {
   "cell_type": "markdown",
   "metadata": {
    "collapsed": false,
    "id": "Nu8deb5kJtTi",
    "jupyter": {
     "outputs_hidden": false
    }
   },
   "source": [
    "3. Separa el dataframe en 4 grupos: X_train (característica de entrenamiento: altura de los padres), X_test (característica de test, 30% de las filas), y_train(etiqueta de entrenamiento: altura de los hijos), y_test(etiqueta de test)."
   ]
  },
  {
   "cell_type": "code",
   "execution_count": null,
   "metadata": {
    "id": "kOK10aByJtTi"
   },
   "outputs": [],
   "source": []
  },
  {
   "cell_type": "markdown",
   "metadata": {
    "collapsed": false,
    "id": "sDDnDxEhJtTj",
    "jupyter": {
     "outputs_hidden": false
    }
   },
   "source": [
    "4. Muestra el número de registros de cada grupo (entrenamiento y test)"
   ]
  },
  {
   "cell_type": "code",
   "execution_count": null,
   "metadata": {
    "id": "o20pHKo1JtTk"
   },
   "outputs": [],
   "source": []
  },
  {
   "cell_type": "markdown",
   "metadata": {
    "collapsed": false,
    "id": "nGW9D836JtTk",
    "jupyter": {
     "outputs_hidden": false
    }
   },
   "source": [
    "5. Entrena un modelo de regresión lineal con sklearn y muestra los coeficientes (constante y pendiente)."
   ]
  },
  {
   "cell_type": "code",
   "execution_count": null,
   "metadata": {
    "id": "Ua0v8-zMJtTk"
   },
   "outputs": [],
   "source": []
  },
  {
   "cell_type": "markdown",
   "metadata": {
    "collapsed": false,
    "id": "_KOq-uv7JtTl",
    "jupyter": {
     "outputs_hidden": false
    }
   },
   "source": [
    "6. MUestra un gráfico con los puntos y la recta de regresión."
   ]
  },
  {
   "cell_type": "code",
   "execution_count": null,
   "metadata": {
    "id": "zoh2kUZWJtTl"
   },
   "outputs": [],
   "source": []
  },
  {
   "cell_type": "markdown",
   "metadata": {
    "collapsed": false,
    "id": "StwEQRtLJtTm",
    "jupyter": {
     "outputs_hidden": false
    }
   },
   "source": [
    "7. Muestra las métricas de los datos de entrenamiento."
   ]
  },
  {
   "cell_type": "code",
   "execution_count": null,
   "metadata": {
    "id": "gn-lcx4DJtTm"
   },
   "outputs": [],
   "source": []
  },
  {
   "cell_type": "markdown",
   "metadata": {
    "collapsed": false,
    "id": "yDCKoP4jJtTm",
    "jupyter": {
     "outputs_hidden": false
    }
   },
   "source": [
    "8. Calcula las predicciones de los datos de test y muestra los valores de las diferentes métricas."
   ]
  },
  {
   "cell_type": "code",
   "execution_count": null,
   "metadata": {
    "id": "KMGk3krlJtTn"
   },
   "outputs": [],
   "source": []
  },
  {
   "cell_type": "markdown",
   "metadata": {
    "collapsed": false,
    "id": "qiOvkXW9JtTn",
    "jupyter": {
     "outputs_hidden": false
    }
   },
   "source": [
    "# Webgrafia\n",
    "\n",
    "\n",
    "[Curso de Cesar Guirò](https://cesguiro.es/doku.php?id=clase:ia:saa:start)\n",
    "[Curso de Luz Frías](https://github.com/koldLight/curso-python-analisis-datos)\n",
    "[Curso de Tirtjakupto Sarkar](https://github.com/tirthajyoti/Machine-Learning-with-Python)\n",
    "[DataCamp](https://www.datacamp.com/)\n"
   ]
  },
  {
   "cell_type": "markdown",
   "metadata": {
    "collapsed": false,
    "id": "PuTc8e4CJtTo",
    "jupyter": {
     "outputs_hidden": false
    }
   },
   "source": [
    "# Licencia\n",
    "\n",
    "[Attributon-ShacerAlike 4.0 International](https://creativecommons.org/licenses/by-sa/4.0/)\n",
    "\n",
    "Puedes utilizar libremente este material, con las siguientes condiciones:\n",
    "\n",
    "* Atribuir la autoría a este documento.\n",
    "* Si lo utilizas y haces cambios, deberás liberarlo también bajo la misma licencia."
   ]
  }
 ],
 "metadata": {
  "colab": {
   "provenance": []
  },
  "kernelspec": {
   "display_name": "Python 3 (ipykernel)",
   "language": "python",
   "name": "python3"
  },
  "language_info": {
   "codemirror_mode": {
    "name": "ipython",
    "version": 3
   },
   "file_extension": ".py",
   "mimetype": "text/x-python",
   "name": "python",
   "nbconvert_exporter": "python",
   "pygments_lexer": "ipython3",
   "version": "3.12.4"
  }
 },
 "nbformat": 4,
 "nbformat_minor": 4
}
