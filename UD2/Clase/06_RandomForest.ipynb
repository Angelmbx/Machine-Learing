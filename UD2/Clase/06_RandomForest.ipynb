{
 "cells": [
  {
   "cell_type": "markdown",
   "metadata": {
    "id": "5Ng0BDBRh3cY"
   },
   "source": [
    "# **Clasificación con Bosques Aleatorios (Random forest)**\n",
    "UD2. Aprendizaxe Supervisada\n",
    "MP. Sistemas de Aprendizaxe Automáticos"
   ]
  },
  {
   "cell_type": "markdown",
   "metadata": {
    "id": "k-8XnlGsdihg"
   },
   "source": [
    "### **1. Importación de paquetes y dataset**"
   ]
  },
  {
   "cell_type": "code",
   "execution_count": null,
   "metadata": {
    "executionInfo": {
     "elapsed": 2162,
     "status": "ok",
     "timestamp": 1676478666974,
     "user": {
      "displayName": "Ernesto Frías Nores",
      "userId": "04050836756016798788"
     },
     "user_tz": -60
    },
    "id": "iNMX0ii1YoDM"
   },
   "outputs": [],
   "source": [
    "import matplotlib.pyplot as plt\n",
    "import numpy as np\n",
    "import pandas as pd\n",
    "\n",
    "from math import sqrt\n",
    "from sklearn.tree import export_graphviz\n",
    "from sklearn.datasets import load_wine\n",
    "from sklearn.model_selection import train_test_split\n",
    "from sklearn.ensemble import RandomForestClassifier\n",
    "from sklearn.metrics import classification_report, confusion_matrix\n",
    "from sklearn.tree import plot_tree"
   ]
  },
  {
   "cell_type": "markdown",
   "metadata": {
    "id": "9-MKbCvaw-wy"
   },
   "source": [
    "Cargamos el dataset wine incluido en el módulo dataset de scikit-learn. El dataset contiene 13 propiedades de los vinos:\n",
    "\n",
    "alcohol\n",
    "\n",
    "malic_acid\n",
    "\n",
    "ash: Ceniza\n",
    "\n",
    "alcalinity_of_ash: alcalinidad de las cenizas\n",
    "\n",
    "magnesium\n",
    "\n",
    "flavanoids\n"
   ]
  },
  {
   "cell_type": "code",
   "execution_count": null,
   "metadata": {
    "colab": {
     "base_uri": "https://localhost:8080/",
     "height": 488
    },
    "executionInfo": {
     "elapsed": 604,
     "status": "ok",
     "timestamp": 1676478673843,
     "user": {
      "displayName": "Ernesto Frías Nores",
      "userId": "04050836756016798788"
     },
     "user_tz": -60
    },
    "id": "O55SGf6PcXrb",
    "outputId": "060170e7-cfa5-4a3c-d922-3d84845cacc3"
   },
   "outputs": [],
   "source": [
    "wine_data = load_wine()\n",
    "# Creo un Dataframe para visualizar mejor los datos\n",
    "wine_df = pd.DataFrame(wine_data['data'], columns=wine_data['feature_names'])\n",
    "wine_df"
   ]
  },
  {
   "cell_type": "markdown",
   "metadata": {
    "id": "w3viSYVx1rAl"
   },
   "source": [
    "Al igual que los árboles de decisión, no es necesario regularizar los datos. Aunque el árbol de decisiones puede manejar los missing values, el algoritmo implementado en scikit-learn no soporta missing values por lo que se deben eliminar. En este ejemplo el dataset ya ha sido pre-procesado y no contiene missing values, por lo que podemos particionar directamente el dataset."
   ]
  },
  {
   "cell_type": "code",
   "execution_count": null,
   "metadata": {
    "id": "zComorTlPi4l"
   },
   "outputs": [],
   "source": [
    "X_train, X_test, y_train, y_test = train_test_split(\n",
    "wine_data.data, wine_data.target, stratify=wine_data.target, random_state=42)"
   ]
  },
  {
   "cell_type": "markdown",
   "metadata": {
    "id": "kSqOSCp4bmyR"
   },
   "source": [
    "## **Creación del clasificador**"
   ]
  },
  {
   "cell_type": "markdown",
   "metadata": {
    "id": "b6ZyYRqv3VJu"
   },
   "source": [
    "Algunos de los parámetros que podemos configurar del clasificador:\n",
    "\n",
    "* n_estimators: el número de árboles que se van a generar\n",
    "\n",
    "* criterion: La función empleada para determinar la característica que se escoge en cada nodo para realizar la partición.\n",
    "\n",
    "    'gini'     -> Impureza\n",
    "\n",
    "    'entropy'  -> Ganancia de información (Shannon)\n",
    "\n",
    "    'log_loss' -> Ganancia de información (Shannon)\n",
    "\n",
    "\n",
    "* max_features: El número de características que empleamos en cada árbol (se eligen de forma aleatoria)\n",
    "    \n",
    "    Número absoluto (int)\n",
    "\n",
    "    Fracción (float)\n",
    "\n",
    "    'auto': sqrt(n_features)\n",
    "\n",
    "    'sqrt': sqrt(n_features) (por defecto)\n",
    "\n",
    "    'log2': log2(n_features)\n",
    "\n",
    "     None: n_features\n",
    "\n",
    "\n",
    "\n",
    "* max_samples: El número de muestras que se seleccionan para generar cada árbol (Bootstrap sample).\n",
    "\n",
    "  None: usa todas las muestras (default)\n",
    "  value(int): Número de muestras determinado\n",
    "  value(float): Fracción del número de muestras\n",
    "\n",
    "También se pueden emplear las técnicas de poda vistas con el árbol de decisiones usando los siguientes parámetros:\n",
    "\n",
    "* max_deep: Profundidad máxima de los árboles\n",
    "\n",
    "* min_samples_split: El número de muestras mínimo para seguir bifurcando un nodo.\n",
    "\n",
    "* min_samples_leaf: El número de muestras mínimo para considerar que el nodo es terminal.\n",
    "\n",
    "\n"
   ]
  },
  {
   "cell_type": "code",
   "execution_count": null,
   "metadata": {
    "id": "h4TqKhvr3iIO"
   },
   "outputs": [],
   "source": [
    "crf = RandomForestClassifier(n_estimators=100, criterion='gini', max_features='sqrt' , max_samples=None, random_state=2)"
   ]
  },
  {
   "cell_type": "markdown",
   "metadata": {
    "id": "nvkiiu7WhqZn"
   },
   "source": [
    "# **Entrenamiento**"
   ]
  },
  {
   "cell_type": "code",
   "execution_count": null,
   "metadata": {
    "colab": {
     "base_uri": "https://localhost:8080/"
    },
    "id": "qo704OMpb3QN",
    "outputId": "03737576-4259-4c64-d1ef-f31a14193d19"
   },
   "outputs": [],
   "source": [
    "crf.fit(X_train, y_train)"
   ]
  },
  {
   "cell_type": "markdown",
   "metadata": {
    "id": "zUGkGl_Byf1x"
   },
   "source": [
    "# **Informe de clasificación**"
   ]
  },
  {
   "cell_type": "markdown",
   "metadata": {
    "id": "Av-41j7Kdy27"
   },
   "source": [
    "Visualización de los árboles creados"
   ]
  },
  {
   "cell_type": "code",
   "execution_count": null,
   "metadata": {
    "colab": {
     "base_uri": "https://localhost:8080/",
     "height": 1000
    },
    "id": "DyrScEIGcm7F",
    "outputId": "ed7b9183-c381-4fb0-dd22-ed1d884787f8"
   },
   "outputs": [],
   "source": [
    "fig, axes = plt.subplots(1,2, figsize=(30,20))\n",
    "\n",
    "for i in range(len(axes)):\n",
    "  fig = plt.figure()\n",
    "  plot_tree(crf.estimators_[i],\n",
    "            feature_names=wine_data.feature_names,\n",
    "            class_names=wine_data.target_names,\n",
    "            filled=True,\n",
    "            impurity=True,\n",
    "            rounded=True,\n",
    "            ax=axes[i])\n",
    "plt.show()"
   ]
  },
  {
   "cell_type": "markdown",
   "metadata": {
    "id": "s0j2kdyZ4uGJ"
   },
   "source": [
    "Precisión del clasificador"
   ]
  },
  {
   "cell_type": "code",
   "execution_count": null,
   "metadata": {
    "colab": {
     "base_uri": "https://localhost:8080/"
    },
    "id": "vAA6hlLFy_zb",
    "outputId": "51a4715e-6105-430b-91a4-b786c6ab8b2c"
   },
   "outputs": [],
   "source": [
    "print(\"Precisión en conjunto de datos de entrenamiento: {:.3f}\".format(crf.score(X_train, y_train)))\n",
    "print(\"Precisión en el conjunto de datos de evaluación: {:.3f}\".format(crf.score(X_test, y_test)))"
   ]
  },
  {
   "cell_type": "markdown",
   "metadata": {
    "id": "NI8KAL1Jg4E7"
   },
   "source": [
    "Matriz de confusión"
   ]
  },
  {
   "cell_type": "code",
   "execution_count": null,
   "metadata": {
    "colab": {
     "base_uri": "https://localhost:8080/"
    },
    "id": "3vFELyFsdFbV",
    "outputId": "7c27949a-27ae-4b36-e5a7-c633352e9aeb"
   },
   "outputs": [],
   "source": [
    "print(confusion_matrix(y_test, crf.predict(X_test)))"
   ]
  },
  {
   "cell_type": "markdown",
   "metadata": {
    "id": "IqINeynZ5Wu5"
   },
   "source": [
    "### **Evaluación de la variación de características**"
   ]
  },
  {
   "cell_type": "markdown",
   "metadata": {
    "id": "iHGioo2a56kT"
   },
   "source": [
    "Vamos a evaluar el impacto en el número de muestras seleccionadas por bootstrap sample"
   ]
  },
  {
   "cell_type": "code",
   "execution_count": null,
   "metadata": {
    "colab": {
     "base_uri": "https://localhost:8080/"
    },
    "id": "Byzj8Jqq5s65",
    "outputId": "74e0d249-28f9-4b6d-b48f-e69697ad4443"
   },
   "outputs": [],
   "source": [
    "print('Número de muestras del entranamiento {}'.format(X_train.shape[0]))"
   ]
  },
  {
   "cell_type": "code",
   "execution_count": null,
   "metadata": {
    "colab": {
     "base_uri": "https://localhost:8080/"
    },
    "id": "wsFo-KZr8zCF",
    "outputId": "1aef49fa-0335-4fc0-c954-aff1c806c60d"
   },
   "outputs": [],
   "source": [
    "# Generamos una lista con distinto número de muestras\n",
    "\n",
    "n_samples = [0.1, 0.2, 0.3, 0.5, 0.8, 0.9]\n",
    "\n",
    "acc_lst = []\n",
    "\n",
    "for n in n_samples:\n",
    "\n",
    "  # Generamos el clasificador\n",
    "  crf_s = RandomForestClassifier(n_estimators=100, criterion='gini', max_features='sqrt' , max_samples=n, random_state=2)\n",
    "  \n",
    "  # Entrenamos\n",
    "  crf_s.fit(X_train, y_train)\n",
    "  acc_lst.append(crf_s.score(X_test, y_test))\n",
    "\n",
    "acc_lst"
   ]
  },
  {
   "cell_type": "markdown",
   "metadata": {
    "id": "otlxqSoXDyek"
   },
   "source": [
    "Valores muy bajos pueden introducir sesgo. Se recomienda que estén en un rango de 60% 80%. Suele usarse el valor de 2/3 "
   ]
  },
  {
   "cell_type": "markdown",
   "metadata": {
    "id": "Owc-x3m4_TVr"
   },
   "source": [
    "Ahora evaluamos el número de características empleadas en la generación de cada árbol"
   ]
  },
  {
   "cell_type": "code",
   "execution_count": null,
   "metadata": {
    "colab": {
     "base_uri": "https://localhost:8080/"
    },
    "id": "8gLv8BuL_1TP",
    "outputId": "3c20e998-4f4a-4a64-a967-e2805feb4ba3"
   },
   "outputs": [],
   "source": [
    "print('Número de características {}'.format(X_train.shape[1]))"
   ]
  },
  {
   "cell_type": "code",
   "execution_count": null,
   "metadata": {
    "colab": {
     "base_uri": "https://localhost:8080/"
    },
    "id": "XwGM12XWGLrU",
    "outputId": "2301681c-c78b-457b-97e9-e81c042c9da2"
   },
   "outputs": [],
   "source": [
    "# Generamos una lista con distinto número de características\n",
    "\n",
    "n_samples = [0.1, 0.2, 0.3, 0.5, 0.8, 0.9]\n",
    "\n",
    "acc_lst = []\n",
    "\n",
    "for n in n_samples:\n",
    "\n",
    "  # Generamos el clasificador\n",
    "  crf_s = RandomForestClassifier(n_estimators=100, criterion='gini', max_features=n , max_samples=None, random_state=2)\n",
    "  \n",
    "  # Entrenamos\n",
    "  crf_s.fit(X_train, y_train)\n",
    "  acc_lst.append(crf_s.score(X_test, y_test))\n",
    "\n",
    "acc_lst"
   ]
  },
  {
   "cell_type": "markdown",
   "metadata": {
    "id": "5ICmNAjBXstr"
   },
   "source": [
    "TAREA: Clasificación Random Forest con dataset Titanic\n",
    "\n",
    "1. Genera un modelo con el clasificador de Random Forest con los valores por defecto y compara los resultados con los clasificadores de Regresión logística y árbol de decisiones realizando el informe de clasificación.\n",
    "\n",
    "2. Genera diferentes modelos del clasificador de Random Forest variando los parámetros más importantes. Analiza los resultados y razona si se ajustan al resultado esperado en función de los parámetros seleccionados.\n",
    "\n",
    "\n",
    "\n",
    "\n",
    "\n"
   ]
  }
 ],
 "metadata": {
  "colab": {
   "provenance": []
  },
  "kernelspec": {
   "display_name": "Python 3 (ipykernel)",
   "language": "python",
   "name": "python3"
  },
  "language_info": {
   "codemirror_mode": {
    "name": "ipython",
    "version": 3
   },
   "file_extension": ".py",
   "mimetype": "text/x-python",
   "name": "python",
   "nbconvert_exporter": "python",
   "pygments_lexer": "ipython3",
   "version": "3.12.4"
  }
 },
 "nbformat": 4,
 "nbformat_minor": 4
}
